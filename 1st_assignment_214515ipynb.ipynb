{
  "nbformat": 4,
  "nbformat_minor": 0,
  "metadata": {
    "colab": {
      "name": "1st_assignment_214515ipynb",
      "provenance": [],
      "collapsed_sections": [],
      "include_colab_link": true
    },
    "kernelspec": {
      "name": "python3",
      "display_name": "Python 3"
    },
    "language_info": {
      "name": "python"
    }
  },
  "cells": [
    {
      "cell_type": "markdown",
      "metadata": {
        "id": "view-in-github",
        "colab_type": "text"
      },
      "source": [
        "<a href=\"https://colab.research.google.com/github/dasdebadurlabha/Assignments_214515/blob/main/1st_assignment_214515ipynb.ipynb\" target=\"_parent\"><img src=\"https://colab.research.google.com/assets/colab-badge.svg\" alt=\"Open In Colab\"/></a>"
      ]
    },
    {
      "cell_type": "markdown",
      "source": [
        "Chapter 2 "
      ],
      "metadata": {
        "id": "uphsirGxIeVW"
      }
    },
    {
      "cell_type": "markdown",
      "source": [
        "exercise 2\n"
      ],
      "metadata": {
        "id": "IVIeozWQs4tJ"
      }
    },
    {
      "cell_type": "code",
      "source": [
        "n1=input(\"What is your name ?\\n\")\n",
        "print(\"Hello\"+\"  \"+ n1)"
      ],
      "metadata": {
        "colab": {
          "base_uri": "https://localhost:8080/"
        },
        "id": "B6wGRAfVs7mh",
        "outputId": "384b2f0a-0ef9-4f69-f6bf-f63a9b29ad3f"
      },
      "execution_count": null,
      "outputs": [
        {
          "output_type": "stream",
          "name": "stdout",
          "text": [
            "What is your name ?\n",
            "Deb\n",
            "Hello  Deb\n"
          ]
        }
      ]
    },
    {
      "cell_type": "markdown",
      "source": [
        "Exercise 3"
      ],
      "metadata": {
        "id": "GX_ObYhEwkWS"
      }
    },
    {
      "cell_type": "code",
      "source": [
        "n1 = input(\"Enter Hour\\n\")\n",
        "n2 = input(\"Enter rate\\n\")\n",
        "n4=int(n1)\n",
        "n5=float(n2)\n",
        "n3=n4*n5\n",
        "print(n3)"
      ],
      "metadata": {
        "colab": {
          "base_uri": "https://localhost:8080/"
        },
        "id": "wBgzSY1fwnHr",
        "outputId": "82dbdbd9-3a43-49ac-f6e5-5ba8fe1bca84"
      },
      "execution_count": null,
      "outputs": [
        {
          "output_type": "stream",
          "name": "stdout",
          "text": [
            "Enter Hour\n",
            "5\n",
            "Enter rate\n",
            "96.25\n",
            "481.25\n"
          ]
        }
      ]
    },
    {
      "cell_type": "markdown",
      "source": [
        "Exercise 4"
      ],
      "metadata": {
        "id": "-BHILh3ly-eq"
      }
    },
    {
      "cell_type": "code",
      "source": [
        "w=17\n",
        "h=12.0\n",
        "\n",
        "#bit 1\n",
        "p=w//2\n",
        "print(p,type(p))\n",
        "\n",
        "#bit 2\n",
        "g=w/2.0\n",
        "print(g,type(g))\n",
        "\n",
        "#bit3\n",
        "n=h/3\n",
        "print(n , type(n))\n",
        "\n",
        "#bit 4\n",
        "m=1+2*5\n",
        "print(m , type(m))"
      ],
      "metadata": {
        "colab": {
          "base_uri": "https://localhost:8080/"
        },
        "id": "SMAKkN6J0NmH",
        "outputId": "b7041dfe-ab0b-46cc-cf55-249347ff2fbe"
      },
      "execution_count": null,
      "outputs": [
        {
          "output_type": "stream",
          "name": "stdout",
          "text": [
            "8 <class 'int'>\n",
            "8.5 <class 'float'>\n",
            "4.0 <class 'float'>\n",
            "11 <class 'int'>\n"
          ]
        }
      ]
    },
    {
      "cell_type": "markdown",
      "source": [
        "Exercise 5"
      ],
      "metadata": {
        "id": "uF8PyAqP3FQk"
      }
    },
    {
      "cell_type": "code",
      "source": [
        "n=input(\"Enter the celcius temperature\\n\")\n",
        "m=float(n)\n",
        "a=m*(9/5)+32\n",
        "print(a)"
      ],
      "metadata": {
        "colab": {
          "base_uri": "https://localhost:8080/"
        },
        "id": "zYvOfASE3HoZ",
        "outputId": "73d2914e-4ea7-43a5-b66b-669d4f82e3bc"
      },
      "execution_count": null,
      "outputs": [
        {
          "output_type": "stream",
          "name": "stdout",
          "text": [
            "Enter the celcius temperature\n",
            "55.6\n",
            "132.07999999999998\n"
          ]
        }
      ]
    },
    {
      "cell_type": "markdown",
      "source": [
        "General exercise"
      ],
      "metadata": {
        "id": "-jmPsPj_7Hg9"
      }
    },
    {
      "cell_type": "code",
      "source": [
        "z=input(\"Enter your body temperature\\n\")\n",
        "m=float(z)\n",
        "if (m>=98.5) :\n",
        "  print('You are feverish')\n",
        "else :\n",
        "  print('You are normal')    \n",
        "\n",
        "\n",
        "\n",
        "    "
      ],
      "metadata": {
        "colab": {
          "base_uri": "https://localhost:8080/"
        },
        "id": "aerkCLFB7MO9",
        "outputId": "116b7921-64f0-4a7c-fbdf-2438cc320c80"
      },
      "execution_count": null,
      "outputs": [
        {
          "output_type": "stream",
          "name": "stdout",
          "text": [
            "Enter your body temperature\n",
            "99\n",
            "You are feverish\n"
          ]
        }
      ]
    },
    {
      "cell_type": "markdown",
      "source": [
        "Chapter 3"
      ],
      "metadata": {
        "id": "rRtx_ZZqIoUG"
      }
    },
    {
      "cell_type": "markdown",
      "source": [
        "Exercise 1"
      ],
      "metadata": {
        "id": "_kFFsU3xIsQK"
      }
    },
    {
      "cell_type": "code",
      "source": [
        "n1 = float(input(\"Enter Hour\\n\"))\n",
        "n2 = float(input(\"Enter rate\\n\"))\n",
        "\n",
        "if(n1>40):\n",
        "  n3=(n1-40)*1.5*n2+(40*n2)\n",
        "else:\n",
        "  n3=n1*n2  \n",
        "  \n",
        "print(n3)"
      ],
      "metadata": {
        "colab": {
          "base_uri": "https://localhost:8080/"
        },
        "id": "78WUy7IXKLAE",
        "outputId": "9715d966-1870-4999-ff0a-002bee799c55"
      },
      "execution_count": null,
      "outputs": [
        {
          "output_type": "stream",
          "name": "stdout",
          "text": [
            "Enter Hour\n",
            "40\n",
            "Enter rate\n",
            "10\n",
            "400.0\n"
          ]
        }
      ]
    },
    {
      "cell_type": "markdown",
      "source": [
        "Exercise 2"
      ],
      "metadata": {
        "id": "IX721n7SPYeW"
      }
    },
    {
      "cell_type": "code",
      "source": [
        "try:\n",
        "   n1 = float(input(\"Enter Hour\\n\"))\n",
        "   n2 = float(input(\"Enter rate\\n\"))\n",
        "\n",
        "   if (n1>40):\n",
        "     n3=(n1-40)*1.5*n2+(40*n2)\n",
        "   else:\n",
        "     n3=n1*n2   \n",
        "     print(n3)\n",
        "except:\n",
        "  print(\"Please enter numeric input\")"
      ],
      "metadata": {
        "colab": {
          "base_uri": "https://localhost:8080/"
        },
        "id": "AfSSJkf9Pap2",
        "outputId": "2f5fb8dd-9d9f-408b-dacd-f04a651d5a93"
      },
      "execution_count": null,
      "outputs": [
        {
          "output_type": "stream",
          "name": "stdout",
          "text": [
            "Enter Hour\n",
            "nn\n",
            "Please enter numeric input\n"
          ]
        }
      ]
    },
    {
      "cell_type": "markdown",
      "source": [
        "Exercise 3"
      ],
      "metadata": {
        "id": "CTa_ZjjjUpUq"
      }
    },
    {
      "cell_type": "code",
      "source": [
        "a=float(input(\"Enter your score\\n\"))\n",
        "if(a<0.0 or a>1.0) :\n",
        "  print(\"Score is out of range!!\")\n",
        "elif(a>=0.9):\n",
        "  print(\"A\")\n",
        "elif(a>=0.8):\n",
        "  print(\"B\")\n",
        "elif(a>=0.7):\n",
        "  print(\"C\")\n",
        "elif(a>=0.6):\n",
        "  print(\"D\")      \n",
        "else:\n",
        "  print(\"F\")\n"
      ],
      "metadata": {
        "colab": {
          "base_uri": "https://localhost:8080/"
        },
        "id": "zTKfb3nhUsR7",
        "outputId": "4b1168c9-8330-471b-c947-adb043e8f22e"
      },
      "execution_count": null,
      "outputs": [
        {
          "output_type": "stream",
          "name": "stdout",
          "text": [
            "Enter your score\n",
            "10\n",
            "Score is out of range!!\n"
          ]
        }
      ]
    },
    {
      "cell_type": "markdown",
      "source": [
        "***Function Chapter***"
      ],
      "metadata": {
        "id": "jxGkO749CjRX"
      }
    },
    {
      "cell_type": "markdown",
      "source": [
        "Exercise 5"
      ],
      "metadata": {
        "id": "3fZU3KG0nqiQ"
      }
    },
    {
      "cell_type": "code",
      "source": [
        "def fred():\n",
        "  print(\"Zap\")\n",
        "def jane():\n",
        "  print(\"ABC\")\n",
        "jane()\n",
        "fred()\n",
        "jane()"
      ],
      "metadata": {
        "colab": {
          "base_uri": "https://localhost:8080/"
        },
        "id": "NzIomyi1n0g1",
        "outputId": "72251925-931d-4164-9b41-b34d021871ad"
      },
      "execution_count": null,
      "outputs": [
        {
          "output_type": "stream",
          "name": "stdout",
          "text": [
            "ABC\n",
            "Zap\n",
            "ABC\n"
          ]
        }
      ]
    },
    {
      "cell_type": "markdown",
      "source": [
        "Exercise 6"
      ],
      "metadata": {
        "id": "xk58ccxTCvED"
      }
    },
    {
      "cell_type": "code",
      "source": [
        "def computepay(Hours,rate):\n",
        "  if(Hours>40):\n",
        "    pay=(Hours-40)*1.5*rate+(40*rate)\n",
        "  else:\n",
        "    pay=Hours*rate  \n",
        "  return pay\n",
        "\n",
        "Hours = float(input(\"Enter Hour\\n\"))\n",
        "rate = float(input(\"Enter rate\\n\"))\n",
        "pay = computepay(Hours , rate)  \n",
        "print( 'pay :',pay)"
      ],
      "metadata": {
        "colab": {
          "base_uri": "https://localhost:8080/"
        },
        "id": "v-eHpwpHmej1",
        "outputId": "87927d38-0566-42f2-d759-05593f834eb3"
      },
      "execution_count": null,
      "outputs": [
        {
          "output_type": "stream",
          "name": "stdout",
          "text": [
            "Enter Hour\n",
            "45\n",
            "Enter rate\n",
            "10\n",
            "pay : 475.0\n"
          ]
        }
      ]
    },
    {
      "cell_type": "markdown",
      "source": [
        "Exercise *7*"
      ],
      "metadata": {
        "id": "1w_3coZtMWJ9"
      }
    },
    {
      "cell_type": "code",
      "source": [
        "\n",
        "def computegrade(score):\n",
        "  if(score<0.0 or score>1.0) :\n",
        "    return(\"Score is out of range!!\")\n",
        "  elif(score>=0.9):\n",
        "    return(\"A\")\n",
        "  elif(score>=0.8):\n",
        "    return(\"B\")\n",
        "  elif(score>=0.7):\n",
        "    return(\"C\")\n",
        "  elif(score>=0.6):\n",
        "    return(\"D\")      \n",
        "  else:\n",
        "    return(\"F\")\n",
        "try:\n",
        "  score=float(input(\"Enter your score\\n\"))\n",
        "  print(computegrade(score))\n",
        "except Exception :\n",
        "  print('Enter a number!!!!!')\n",
        "  \n",
        "#score=0  \n",
        "#grade=computegrade(score)\n",
        "#print(computegrade(score))\n"
      ],
      "metadata": {
        "colab": {
          "base_uri": "https://localhost:8080/"
        },
        "id": "pJUY-wYKiBXl",
        "outputId": "d40e9408-669f-4dcb-9bfc-db2f587e5621"
      },
      "execution_count": null,
      "outputs": [
        {
          "output_type": "stream",
          "name": "stdout",
          "text": [
            "Enter your score\n",
            "10\n",
            "Score is out of range!!\n"
          ]
        }
      ]
    },
    {
      "cell_type": "markdown",
      "source": [
        "**Iteration** **Chapter** "
      ],
      "metadata": {
        "id": "mg24GbRC5ySF"
      }
    },
    {
      "cell_type": "markdown",
      "source": [
        "Exercise 1"
      ],
      "metadata": {
        "id": "bizFSrAR6A2W"
      }
    },
    {
      "cell_type": "code",
      "source": [
        "count=0\n",
        "total=0\n",
        "while True :\n",
        "  value=input('Enter the number\\n')\n",
        "  if (value=='done'):\n",
        "    break\n",
        "  try:\n",
        "    value1=float(value)\n",
        "  except:\n",
        "    print('Invalid input')\n",
        "  total=total+value1\n",
        "  count=count+1\n",
        "print(total,count,total/count)\n"
      ],
      "metadata": {
        "colab": {
          "base_uri": "https://localhost:8080/"
        },
        "id": "RGh0FxBR6FUw",
        "outputId": "e3abcfa9-1400-47f4-a66a-da1668ad83db"
      },
      "execution_count": null,
      "outputs": [
        {
          "output_type": "stream",
          "name": "stdout",
          "text": [
            "Enter the number\n",
            "5\n",
            "Enter the number\n",
            "4\n",
            "Enter the number\n",
            "7\n",
            "Enter the number\n",
            "done\n",
            "16.0 3 5.333333333333333\n"
          ]
        }
      ]
    },
    {
      "cell_type": "markdown",
      "source": [
        ""
      ],
      "metadata": {
        "id": "36cFxSKs59DH"
      }
    },
    {
      "cell_type": "markdown",
      "source": [
        "Exercise 2"
      ],
      "metadata": {
        "id": "6JdCjMjCNUKA"
      }
    },
    {
      "cell_type": "code",
      "source": [
        "count=0\n",
        "list=[]\n",
        "while True :\n",
        "  element=input('Enter the number\\n')\n",
        "  if (element=='done'):\n",
        "    break\n",
        "  try:\n",
        "    value1=float(element)\n",
        "    list.append(value1)\n",
        "    \n",
        "  except:\n",
        "    print('Invalid input')\n",
        "\n",
        "  if count==0 :\n",
        "    min_val=value1\n",
        "    max_val=value1\n",
        "  elif value1<min_val:\n",
        "    min_val=value1\n",
        "  elif value1>max_val:\n",
        "    max_val=value1\n",
        "\n",
        "  count=count+1\n",
        "print('The list of ements are :',list)\n",
        "print(min_val , max_val)\n",
        "\n",
        "\n",
        "\n",
        "\n"
      ],
      "metadata": {
        "colab": {
          "base_uri": "https://localhost:8080/"
        },
        "id": "GF1HtKdhNWWA",
        "outputId": "26c84af2-bcfb-4380-e6b3-c48c2c6a5e1b"
      },
      "execution_count": null,
      "outputs": [
        {
          "output_type": "stream",
          "name": "stdout",
          "text": [
            "Enter the number\n",
            "1\n",
            "Enter the number\n",
            "2\n",
            "Enter the number\n",
            "3\n",
            "Enter the number\n",
            "done\n",
            "The list of ements are : [1.0, 2.0, 3.0]\n",
            "1.0 3.0\n"
          ]
        }
      ]
    },
    {
      "cell_type": "markdown",
      "source": [
        "Function file exercise"
      ],
      "metadata": {
        "id": "jvTsJEr3hDpq"
      }
    },
    {
      "cell_type": "code",
      "source": [
        "#greeter\n",
        "def thank_you(name):\n",
        "  print(\"\\nYou are doing good work, %s!\" % name)\n",
        "  print(\"Thank you very much for your efforts on this project.%s!\" % name)\n",
        "  print(\"Thank for your contribution in this project.%s!\" % name)\n",
        "thank_you('Ravi')\n",
        "thank_you('Anirudh')\n",
        "thank_you('Amey')"
      ],
      "metadata": {
        "colab": {
          "base_uri": "https://localhost:8080/"
        },
        "id": "woShEgFXhG1x",
        "outputId": "252f3eef-5581-4db7-e81d-91560deece96"
      },
      "execution_count": null,
      "outputs": [
        {
          "output_type": "stream",
          "name": "stdout",
          "text": [
            "\n",
            "You are doing good work, Ravi!\n",
            "Thank you very much for your efforts on this project.Ravi!\n",
            "Thank for your contribution in this project.Ravi!\n",
            "\n",
            "You are doing good work, Anirudh!\n",
            "Thank you very much for your efforts on this project.Anirudh!\n",
            "Thank for your contribution in this project.Anirudh!\n",
            "\n",
            "You are doing good work, Amey!\n",
            "Thank you very much for your efforts on this project.Amey!\n",
            "Thank for your contribution in this project.Amey!\n"
          ]
        }
      ]
    },
    {
      "cell_type": "code",
      "source": [
        "#greeter bonus part\n",
        "def Thank_you(name, message,name1,name2,name3):\n",
        "    \n",
        "    print(message)\n",
        "    for name in name:\n",
        "        print(name.title())\n",
        "\n",
        "name = ['Ravi', 'Anirudh', 'Amey']\n",
        "name1='Ravi'\n",
        "name2='Anirudh'\n",
        "name3='Amey'\n",
        "\n",
        "Thank_you(name, \"Here are the list of people involved in the project.\",name1,name2,name3)\n",
        "\n",
        "print(\"\\nYou are doing good work, %s!\" % name1)\n",
        "print(\"Thank you very much for your efforts on this project.%s!\" % name1)\n",
        "print(\"Thank for your contribution in this prject.%s!\" % name1)\n",
        "\n",
        "print(\"\\nYou are doing good work, %s!\" % name2)\n",
        "print(\"Thank you very much for your efforts on this project.%s!\" % name2)\n",
        "print(\"Thank for your contribution in this prject.%s!\" % name2)\n",
        "\n",
        "print(\"\\nYou are doing good work, %s!\" % name3)\n",
        "print(\"Thank you very much for your efforts on this project.%s!\" % name3)\n",
        "print(\"Thank for your contribution in this prject.%s!\" % name3)"
      ],
      "metadata": {
        "colab": {
          "base_uri": "https://localhost:8080/"
        },
        "id": "AI6sBey1icQF",
        "outputId": "447764a2-2f3a-4601-a695-8808d650552b"
      },
      "execution_count": null,
      "outputs": [
        {
          "output_type": "stream",
          "name": "stdout",
          "text": [
            "Here are the list of people involved in the project.\n",
            "Ravi\n",
            "Anirudh\n",
            "Amey\n",
            "\n",
            "You are doing good work, Ravi!\n",
            "Thank you very much for your efforts on this project.Ravi!\n",
            "Thank for your contribution in this prject.Ravi!\n",
            "\n",
            "You are doing good work, Anirudh!\n",
            "Thank you very much for your efforts on this project.Anirudh!\n",
            "Thank for your contribution in this prject.Anirudh!\n",
            "\n",
            "You are doing good work, Amey!\n",
            "Thank you very much for your efforts on this project.Amey!\n",
            "Thank for your contribution in this prject.Amey!\n"
          ]
        }
      ]
    },
    {
      "cell_type": "code",
      "source": [
        "#full name\n",
        "def name(fname , lname):\n",
        "  print(\" Hello, %s %s \" % (fname , lname ))\n",
        "  return name\n",
        "  print(\"Hello , %s %s\" % (fname , lname))\n",
        "  return name\n",
        "  print(\"Hello , %s %s\" % (fname , lname))\n",
        "  return name\n",
        "name('Ravi','Kumar')\n",
        "name('Aswath','Narayan')\n",
        "name('Amey','Despande')\n",
        "\n"
      ],
      "metadata": {
        "colab": {
          "base_uri": "https://localhost:8080/"
        },
        "id": "gOydU3ptimp0",
        "outputId": "4c19272e-075f-48d5-e3cd-0e7156b05ec7"
      },
      "execution_count": null,
      "outputs": [
        {
          "output_type": "stream",
          "name": "stdout",
          "text": [
            " Hello, Ravi Kumar \n",
            " Hello, Aswath Narayan \n",
            " Hello, Amey Despande \n"
          ]
        },
        {
          "output_type": "execute_result",
          "data": {
            "text/plain": [
              "<function __main__.name>"
            ]
          },
          "metadata": {},
          "execution_count": 3
        }
      ]
    },
    {
      "cell_type": "code",
      "source": [
        "#add two numbers\n",
        "def addtwo(a, b):  \n",
        " added = a + b\n",
        " return added\n",
        "x = addtwo(3, 5)\n",
        "y=addtwo(5,4)\n",
        "z=addtwo(10,20)\n",
        "print(\"The sum of '3' and '5' is  %s \" %x)\n",
        "print(\"The sum of '5' and '4' is  %s \" %y)\n",
        "print(\"The sum of '10' and '21' is  %s \" %z)"
      ],
      "metadata": {
        "colab": {
          "base_uri": "https://localhost:8080/"
        },
        "id": "MK-KmxQci1y0",
        "outputId": "d3a61235-b6b0-42bb-af5d-465f82998561"
      },
      "execution_count": null,
      "outputs": [
        {
          "output_type": "stream",
          "name": "stdout",
          "text": [
            "The sum of '3' and '5' is  8 \n",
            "The sum of '5' and '4' is  9 \n",
            "The sum of '10' and '21' is  30 \n"
          ]
        }
      ]
    },
    {
      "cell_type": "code",
      "source": [
        "#elasticity using function\n",
        "def elast(price1,box1,price2,box2):\n",
        "  elasticity = (box2 - box1) / (price2 - price1)\n",
        "  return (elasticity)\n",
        "  \n",
        "def scale_elast(elasticity):\n",
        "  if elasticity == 0 : \n",
        "    return 'Perfectly Inelastic'\n",
        "  elif elasticity < 1 :\n",
        "    return 'Relatively inelastic'\n",
        "  elif elasticity == 1 : \n",
        "    return 'Unit Elastic'\n",
        "  elif elasticity > 1 : \n",
        "    return 'Relatively Elastic'\n",
        "\n",
        "price1 = float(input('Enter the prior price : '))\n",
        "box1 = float(input('Enter the prior box : '))\n",
        "price2 = float(input('Enter the latter p : '))\n",
        "box2 =float(input('Enter the prior box : '))\n",
        "print(elast(price1,box1,price2,box2))\n",
        "print(scale_elast(elasticity))"
      ],
      "metadata": {
        "id": "lu-1MNikKrg8"
      },
      "execution_count": null,
      "outputs": []
    },
    {
      "cell_type": "markdown",
      "source": [
        "List Exercises\n"
      ],
      "metadata": {
        "id": "DTQCoC5T5W6G"
      }
    },
    {
      "cell_type": "code",
      "source": [
        "#exercise 1\n",
        "words =[]\n",
        "from google.colab import drive\n",
        "drive.mount('/content/drive', force_remount=1) \n",
        "fhand = open('romeo.txt.txt' , 'r')\n",
        "for line in  fhand :\n",
        " for word in line.split(' '):\n",
        "    if word not in words :\n",
        "        words.append(word)\n",
        "print(sorted(words))"
      ],
      "metadata": {
        "colab": {
          "base_uri": "https://localhost:8080/"
        },
        "id": "BH2CafWyb1tJ",
        "outputId": "eea1cd25-ca77-4175-a186-9f898f79e8ed"
      },
      "execution_count": null,
      "outputs": [
        {
          "output_type": "stream",
          "name": "stdout",
          "text": [
            "Mounted at /content/drive\n",
            "['Arise', 'But', 'It', 'Juliet', 'Who', 'already', 'and', 'breaks\\n', 'east', 'envious', 'fair', 'grief', 'is', 'kill', 'light', 'moon\\n', 'pale', 'sick', 'soft', 'sun', 'sun\\n', 'the', 'through', 'what', 'window', 'with', 'yonder']\n"
          ]
        }
      ]
    },
    {
      "cell_type": "code",
      "source": [
        "from google.colab import drive\n",
        "drive.mount('/content/drive', force_remount=1)\n",
        "data = input(\"Enter the name of the file you want to be processed\")\n",
        "\n",
        "email_data = open(data).read()\n",
        "i=0\n",
        "word=[]\n",
        "words = email_data.split()\n",
        "length = len(words)\n",
        "while i < length:\n",
        "  t=list(words)\n",
        "  i=i+1\n",
        "\n",
        "print(t)\n",
        "\n",
        "  "
      ],
      "metadata": {
        "colab": {
          "base_uri": "https://localhost:8080/"
        },
        "id": "D1mhViNXXCNB",
        "outputId": "faf80a98-427b-405b-cd48-e24d201ecc43"
      },
      "execution_count": null,
      "outputs": [
        {
          "output_type": "stream",
          "name": "stdout",
          "text": [
            "Mounted at /content/drive\n",
            "Enter the name of the file you want to be processedromeo.txt.txt\n",
            "['But', 'soft', 'what', 'light', 'through', 'yonder', 'window', 'breaks', 'It', 'is', 'the', 'east', 'and', 'Juliet', 'is', 'the', 'sun', 'Arise', 'fair', 'sun', 'and', 'kill', 'the', 'envious', 'moon', 'Who', 'is', 'already', 'sick', 'and', 'pale', 'with', 'grief']\n"
          ]
        }
      ]
    },
    {
      "cell_type": "code",
      "source": [
        "from google.colab import drive\n",
        "drive.mount('/content/drive', force_remount=1)\n",
        "data = input(\"Enter the name of the file you want to be processed\")\n",
        "\n",
        "email_data = open(data).read()\n",
        "words = email_data.split()\n",
        "i = 0\n",
        "count=0\n",
        "length = len(words)\n",
        "\n",
        "while i < length:\n",
        "    if words[i] == \"From\":\n",
        "      #new_word=words[i]\n",
        "      count +=1\n",
        "    i=i+1\n",
        "print(\"There were\" , count ,\"  lines in the file which starts with the word  from\")"
      ],
      "metadata": {
        "colab": {
          "base_uri": "https://localhost:8080/"
        },
        "id": "63EBwZKgMaz4",
        "outputId": "36bc6837-ff5f-455b-ab81-b4cae91b5e82"
      },
      "execution_count": null,
      "outputs": [
        {
          "output_type": "stream",
          "name": "stdout",
          "text": [
            "Mounted at /content/drive\n",
            "Enter the name of the file you want to be processedmbox-short.txt\n",
            "There were 27   lines in the file which starts with the word  from\n"
          ]
        }
      ]
    },
    {
      "cell_type": "code",
      "source": [
        "#exercise 3\n",
        "my_nums = []\n",
        "\n",
        "while True:\n",
        "  a = input(\"Enter a number:\")\n",
        "  if a == 'done' :\n",
        "    break\n",
        "  try:\n",
        "    val = float(a)\n",
        "  except:\n",
        "    print(\"invalid input\")\n",
        "    continue\n",
        "  my_nums.append(val)\n",
        " \n",
        "\n",
        "print(min(my_nums) , max(my_nums))\n",
        "\n"
      ],
      "metadata": {
        "colab": {
          "base_uri": "https://localhost:8080/"
        },
        "id": "ZN1jarxilwfS",
        "outputId": "dcbb3a3c-6a44-4e22-f242-125ab7569ab5"
      },
      "execution_count": null,
      "outputs": [
        {
          "output_type": "stream",
          "name": "stdout",
          "text": [
            "Enter a number:0 , 1 , 2\n",
            "invalid input\n",
            "Enter a number:0\n",
            "Enter a number:5\n",
            "Enter a number:5\n",
            "Enter a number:6\n",
            "Enter a number:6\n",
            "Enter a number:done\n",
            "0.0 6.0\n"
          ]
        }
      ]
    },
    {
      "cell_type": "markdown",
      "source": [
        "Dictionaries exercise"
      ],
      "metadata": {
        "id": "PZJNwVeZonyq"
      }
    },
    {
      "cell_type": "code",
      "source": [
        "#exercise 1\n",
        "from google.colab import drive\n",
        "drive.mount('/content/drive', force_remount=1)\n",
        "data = input(\"Enter the name of the file you want to be processed\")\n",
        "email_data = open(data).read()\n",
        "days = dict()\n",
        "words = email_data.split()\n",
        "\n",
        "i = 0\n",
        "length = len(words)\n",
        "\n",
        "while i < length:\n",
        "    if words[i] == \"From\":\n",
        "        days[words[i+2]] = days.get(words[i+2],0) + 1\n",
        "    i = i + 1\n",
        "\n",
        "print(days)"
      ],
      "metadata": {
        "colab": {
          "base_uri": "https://localhost:8080/"
        },
        "id": "NvRCT1IuH8iA",
        "outputId": "ce7d54b8-9b2a-4e9f-fb7b-27dd88d00145"
      },
      "execution_count": null,
      "outputs": [
        {
          "output_type": "stream",
          "name": "stdout",
          "text": [
            "Mounted at /content/drive\n",
            "Enter the name of the file you want to be processedmbox-short.txt\n",
            "{'Sat': 1, 'Fri': 20, 'Thu': 6}\n"
          ]
        }
      ]
    },
    {
      "cell_type": "code",
      "source": [
        "#exercise 2\n",
        "from google.colab import drive\n",
        "drive.mount('/content/drive', force_remount=1)\n",
        "data = input(\"Enter the name of the file you want to be processed\")\n",
        "email_data = open(data).read()\n",
        "sender = dict()\n",
        "#days = dict()\n",
        "words = email_data.split()\n",
        "\n",
        "i = 0\n",
        "length = len(words)\n",
        "\n",
        "while i < length:\n",
        "    if words[i] == \"From\":\n",
        "        #days[words[i+2]] = days.get(words[i+2],0) + 1\n",
        "        sender[words[i+1]] = sender.get(words[i+1],0) + 1\n",
        "    i = i + 1\n",
        "\n",
        "#print(days)\n",
        "print(sender)"
      ],
      "metadata": {
        "colab": {
          "base_uri": "https://localhost:8080/"
        },
        "id": "dKmV1O94XJfS",
        "outputId": "c7ab48ff-be67-402c-a37e-dcfd9cea1bf0"
      },
      "execution_count": null,
      "outputs": [
        {
          "output_type": "stream",
          "name": "stdout",
          "text": [
            "Mounted at /content/drive\n",
            "Enter the name of the file you want to be processedmbox-short.txt\n",
            "{'stephen.marquard@uct.ac.za': 2, 'louis@media.berkeley.edu': 3, 'zqian@umich.edu': 4, 'rjlowe@iupui.edu': 2, 'cwen@iupui.edu': 5, 'gsilver@umich.edu': 3, 'wagnermr@iupui.edu': 1, 'antranig@caret.cam.ac.uk': 1, 'gopal.ramasammycook@gmail.com': 1, 'david.horwitz@uct.ac.za': 4, 'ray@media.berkeley.edu': 1}\n"
          ]
        }
      ]
    },
    {
      "cell_type": "code",
      "source": [
        "#exercise 3\n",
        "from google.colab import drive\n",
        "drive.mount('/content/drive', force_remount=1)\n",
        "data = input(\"Enter the name of the file you want to be processed\")\n",
        "email_data = open(data).read()\n",
        "sender = dict()\n",
        "#days = dict()\n",
        "words = email_data.split()\n",
        "\n",
        "i = 0\n",
        "length = len(words)\n",
        "\n",
        "while i < length:\n",
        "    if words[i] == \"From\":\n",
        "        #days[words[i+2]] = days.get(words[i+2],0) + 1\n",
        "        sender[words[i+1]] = sender.get(words[i+1],0) + 1\n",
        "    i=i+1\n",
        "#print(sender)    \n",
        "max_address = None\n",
        "max_emails = 0\n",
        "for k in sender:\n",
        "    if sender[k] > max_emails:\n",
        "      max_address = k\n",
        "      max_emails = sender[k]\n",
        "\n",
        "#print(days)\n",
        "print(max_address,max_emails)"
      ],
      "metadata": {
        "colab": {
          "base_uri": "https://localhost:8080/"
        },
        "id": "SBclaI318bq7",
        "outputId": "a332b8ae-b513-4e31-e22a-9ee0cb3a94ab"
      },
      "execution_count": null,
      "outputs": [
        {
          "output_type": "stream",
          "name": "stdout",
          "text": [
            "Mounted at /content/drive\n",
            "Enter the name of the file you want to be processedmbox-short.txt\n",
            "cwen@iupui.edu 5\n"
          ]
        }
      ]
    },
    {
      "cell_type": "code",
      "source": [
        "#exercise 4\n",
        "from google.colab import drive\n",
        "drive.mount('/content/drive', force_remount=1)\n",
        "data = input(\"Enter the name of the file you want to be processed\")\n",
        "email_data = open(data).read()\n",
        "domains = dict()\n",
        "\n",
        "words = email_data.split()\n",
        "\n",
        "i = 0\n",
        "length = len(words)\n",
        "\n",
        "while i < length:\n",
        "    if words[i] == \"From\":\n",
        "        emails=words[i+1]\n",
        "        domain=emails.split('@')\n",
        "        domains[domain[1]]=domains.get(domain[1],0)+1\n",
        "    i = i + 1\n",
        "\n",
        "\n",
        "print(domains)"
      ],
      "metadata": {
        "colab": {
          "base_uri": "https://localhost:8080/"
        },
        "id": "3E-00VSUDcoi",
        "outputId": "ff26d544-66dd-4983-99b4-b7228c15f9e0"
      },
      "execution_count": null,
      "outputs": [
        {
          "output_type": "stream",
          "name": "stdout",
          "text": [
            "Mounted at /content/drive\n",
            "Enter the name of the file you want to be processedmbox-short.txt\n",
            "{'uct.ac.za': 6, 'media.berkeley.edu': 4, 'umich.edu': 7, 'iupui.edu': 8, 'caret.cam.ac.uk': 1, 'gmail.com': 1}\n"
          ]
        }
      ]
    },
    {
      "cell_type": "code",
      "source": [
        "# tuples exercise 1 \n",
        "data = input(\"Enter the name of the file you want to be processed\")\n",
        "email_data = open(data).read()\n",
        "sender = dict()\n",
        "#days = dict()\n",
        "words = email_data.split()\n",
        "\n",
        "i = 0\n",
        "length = len(words)\n",
        "\n",
        "while i < length:\n",
        "    if words[i] == \"From\":\n",
        "        #days[words[i+2]] = days.get(words[i+2],0) + 1\n",
        "        sender[words[i+1]] = sender.get(words[i+1],0) + 1\n",
        "    i = i + 1\n",
        "\n",
        "#print(days)\n",
        "#print(sender)\n",
        "\n",
        "lst=[]\n",
        "\n",
        "for key,value in sender.items():#creates a list of dictnary;s (key,value) pair in tuple pairs\n",
        "  lst.append((value,key))\n",
        "  \n",
        "lst.sort(reverse=True)\n",
        "print(lst[0])"
      ],
      "metadata": {
        "colab": {
          "base_uri": "https://localhost:8080/"
        },
        "id": "5DlYDODkhrhR",
        "outputId": "9d0b7958-745e-4fb7-90fe-29ca87826f70"
      },
      "execution_count": null,
      "outputs": [
        {
          "output_type": "stream",
          "name": "stdout",
          "text": [
            "Enter the name of the file you want to be processedmbox-short.txt\n",
            "(5, 'cwen@iupui.edu')\n"
          ]
        }
      ]
    },
    {
      "cell_type": "code",
      "source": [
        "data = input(\"Enter the name of the file you want to be processed\")\n",
        "email_data = open(data).read()\n",
        "hours_of_day = dict()\n",
        "#days = dict()\n",
        "words = email_data.split()\n",
        "i = 0\n",
        "length = len(words)\n",
        "\n",
        "while i < length:\n",
        "    if words[i] == \"From\":\n",
        "        #days[words[i+2]] = days.get(words[i+2],0) + 1\n",
        "        #sender[words[i+1]] = sender.get(words[i+1],0) + 1\n",
        "        time=words[i+5]\n",
        "        time = time.split(\":\")\n",
        "        hours_of_day[time[0]] = hours_of_day.get(time[0],0) + 1\n",
        "    i = i + 1\n",
        "#print(hours_of_day)\n",
        "lst=[]\n",
        "\n",
        "for key,value in hours_of_day.items():#creates a list of dictnary;s (key,value) pair in tuple pairs\n",
        "  lst.append((key,value))\n",
        "  \n",
        "lst.sort()\n",
        "#print(lst)\n",
        "for t in lst :\n",
        "  print(t[0],t[1])\n"
      ],
      "metadata": {
        "colab": {
          "base_uri": "https://localhost:8080/"
        },
        "id": "MbRBeNL_66_E",
        "outputId": "726a67ab-37d1-4f27-fe13-7bfee2ccf29f"
      },
      "execution_count": null,
      "outputs": [
        {
          "output_type": "stream",
          "name": "stdout",
          "text": [
            "Enter the name of the file you want to be processedmbox-short.txt\n",
            "04 3\n",
            "06 1\n",
            "07 1\n",
            "09 2\n",
            "10 3\n",
            "11 6\n",
            "14 1\n",
            "15 2\n",
            "16 4\n",
            "17 2\n",
            "18 1\n",
            "19 1\n"
          ]
        }
      ]
    }
  ]
}